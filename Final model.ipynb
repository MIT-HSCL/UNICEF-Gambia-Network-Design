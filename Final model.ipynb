{
 "cells": [
  {
   "cell_type": "markdown",
   "metadata": {},
   "source": [
    "\n",
    "# Final model Capstone Project ( May, 2020)\n",
    "### Development and Application of an Immunization Network Design Optimization Model \n",
    "#### Henrique Ribeiro Carretti https://www.linkedin.com/in/hrcarretti/\n",
    "#### Yuto Hashimoto: https://www.linkedin.com/in/yuto-hashimoto-2b529917a/"
   ]
  },
  {
   "cell_type": "markdown",
   "metadata": {},
   "source": [
    "### 1.Load Libraries"
   ]
  },
  {
   "cell_type": "code",
   "execution_count": 112,
   "metadata": {},
   "outputs": [],
   "source": [
    "import sys\n",
    "import numpy as np\n",
    "import math\n",
    "import random\n",
    "import pandas as pd\n",
    "from scipy.spatial import distance\n",
    "from haversine import haversine\n",
    "import networkx as nx\n",
    "import osmnx as ox\n",
    "import matplotlib.pyplot as plt\n",
    "import seaborn as sns\n",
    "from tqdm import tqdm\n",
    "import xlwt\n",
    "import gurobipy as gp\n",
    "from gurobipy import GRB\n",
    "from gurobipy import quicksum"
   ]
  },
  {
   "cell_type": "markdown",
   "metadata": {},
   "source": [
    "### 2. Define Classes"
   ]
  },
  {
   "cell_type": "code",
   "execution_count": 2,
   "metadata": {},
   "outputs": [],
   "source": [
    "class health_center:\n",
    "    \"\"\"\n",
    "    A class used to represent the health facilities\n",
    "    Parameters\n",
    "    ----------\n",
    "    x : float \n",
    "        the latitude location\n",
    "    y : float\n",
    "        the longitude of location\n",
    "    ID : str \n",
    "        a (preferrably unique) identifier of the health facility  \n",
    "    \"\"\"\n",
    "    def __init__(self, x, y, ID, name):\n",
    "\n",
    "        self.x = float(x)\n",
    "        self.y = float(y)\n",
    "        self.loc = (self.x,self.y)\n",
    "        self.ID = str(ID)\n",
    "        self.ID = str(name)\n",
    "        self.type = 'health_facility'\n",
    "        self.closestNetworkNode = None"
   ]
  },
  {
   "cell_type": "code",
   "execution_count": 3,
   "metadata": {
    "slideshow": {
     "slide_type": "-"
    }
   },
   "outputs": [],
   "source": [
    "class outreach_center:\n",
    "    \"\"\"\n",
    "    A class used to represent the outreach centers\n",
    "    Parameters\n",
    "    ----------\n",
    "    lat : float\n",
    "        the latitude location\n",
    "    lon : float\n",
    "        the longitude of location\n",
    "    ID : str\n",
    "        a (preferrably unique) identifier of the health facility\n",
    "    ----------\n",
    "\n",
    "    \"\"\"\n",
    "    def __init__(self,x,y,name,ID):\n",
    "\n",
    "        self.x = float(x)\n",
    "        self.y = float(y)\n",
    "        self.loc = (self.x,self.y)\n",
    "        self.ID = str(ID)\n",
    "        self.NAME = str(name)\n",
    "        self.type = 'outreach_center'      \n",
    "        self.closestNetworkNode = None"
   ]
  },
  {
   "cell_type": "code",
   "execution_count": 23,
   "metadata": {},
   "outputs": [],
   "source": [
    "class population_center:\n",
    "    \"\"\"\n",
    "    A class used to represent the outreach centers\n",
    "    Parameters\n",
    "    ----------\n",
    "    lat : float\n",
    "        the latitude location\n",
    "    lon : float\n",
    "        the longitude of location\n",
    "    ID : str\n",
    "        a  unique  identifier of the population set\n",
    "    D : float\n",
    "        Monthly vaccine doses demand of population region\n",
    "    Other Attributes\n",
    "    ----------\n",
    "    \"\"\"\n",
    "    \n",
    "    def __init__(self,x, y,ID,name,D):\n",
    "\n",
    "        self.x = float(x)\n",
    "        self.y = float(y)\n",
    "        self.loc = (self.x,self.y)\n",
    "        self.ID = str(ID)\n",
    "        self.name = str(name)\n",
    "        self.type = 'Population sets'\n",
    "        self.D = float (D)\n",
    "        \n",
    "        self.closestNetworkNode = None"
   ]
  },
  {
   "cell_type": "markdown",
   "metadata": {},
   "source": [
    "### 3.  Retrieves the gambia Open street maps road network and store in a variable called G"
   ]
  },
  {
   "cell_type": "code",
   "execution_count": 5,
   "metadata": {},
   "outputs": [],
   "source": [
    "buffer_m = 500 # Retrieve the entire gambia network + a border of 500 meter\n",
    "from_place = 'gambia' \n",
    "if from_place == None:\n",
    "    \n",
    "        g = ox.graph_from_bbox(\n",
    "            ymax, ymin, xmax, xmin,\n",
    "            network_type = 'drive',\n",
    "            truncate_by_edge = True,\n",
    "            clean_periphery = True\n",
    "        )\n",
    "        \n",
    "else:\n",
    "        \n",
    "        g = ox.graph_from_place(\n",
    "            from_place,\n",
    "            network_type = 'drive',\n",
    "            truncate_by_edge = True,\n",
    "            clean_periphery = True,\n",
    "            buffer_dist = buffer_m # meters\n",
    "        )   "
   ]
  },
  {
   "cell_type": "markdown",
   "metadata": {},
   "source": [
    "\n",
    "### 5.Demand coverage function"
   ]
  },
  {
   "cell_type": "code",
   "execution_count": 9,
   "metadata": {},
   "outputs": [],
   "source": [
    "def calc_demand_factor ( origin, dest, distances, minimum=1, maximum=5, shape = 'linear',k=1.6 ):\n",
    "\n",
    "    \"\"\"\n",
    "    Calculates a Euclidian distance\n",
    "\n",
    "    Parameters\n",
    "    ----------\n",
    "    origin: float\n",
    "        outreach site or fixed health center\n",
    "    dest:float\n",
    "        population region centroid\n",
    "    min : float\n",
    "        the maximum distance, in km, where coverage is 100 %\n",
    "    shape: str\n",
    "        Determines the shape of the function, either linear or exponential decay\n",
    "    max: float\n",
    "        the  distance, in km, from which  coverage is 100 %t \n",
    "    -------\n",
    "    alfa : float\n",
    "        Demand coverage factor, range between 0 and 1\n",
    "    \"\"\"\n",
    "\n",
    "    if shape == 'linear':\n",
    "        alfa=0\n",
    "        if distances[(origin,dest)] < minimum:\n",
    "            alfa = 1\n",
    "        elif distances[(origin,dest)] < maximum:\n",
    "            alfa = maximum/(maximum-minimum) - (1/(maximum-minimum))*distances[(origin,dest)]\n",
    "        else:\n",
    "            alfa =0\n",
    "    elif shape == 'exp_decay_lower':\n",
    "        alfa=0\n",
    "        if distances[(origin,dest)] < minimum:\n",
    "            alfa = 1\n",
    "        elif distances[(origin,dest)] < maximum:\n",
    "            alfa = 1/k ** (distances[(origin,dest)]-2) \n",
    "      \n",
    "    elif shape == 'exp_decay_higher':\n",
    "        alfa=0\n",
    "        if distances[(origin,dest)] < minimum:\n",
    "            alfa = 1\n",
    "        elif distances[(origin,dest)] < maximum:\n",
    "            alfa = ( maximum/(maximum-minimum) - (1/(maximum-minimum))*distances[(origin,dest)]  -\n",
    "                    1/k ** (distances[(origin,dest)]-2)) +maximum/(maximum-minimum) - (1/(maximum-minimum))*distances[(origin,dest)]\n",
    "            \n",
    "            if alfa >1:\n",
    "                alfa =1\n",
    "            \n",
    "    return alfa"
   ]
  },
  {
   "cell_type": "markdown",
   "metadata": {},
   "source": [
    "\n",
    "### 6.Distance and mapping functions"
   ]
  },
  {
   "cell_type": "markdown",
   "metadata": {},
   "source": [
    "#### The functions from  section 6 are adapted from class material of class SCM293, Urban Last MIle logistics. \n",
    "#### Author: Matthias Winkenbach, PhD - mwinkenb@mit.edu - https://megacitylab.mit.edu/"
   ]
  },
  {
   "cell_type": "code",
   "execution_count": 11,
   "metadata": {},
   "outputs": [],
   "source": [
    "def calc_dist(orig,dest,mode='Euclidian'):\n",
    "    \"\"\"\n",
    "    Calculates a Euclidian distance\n",
    "\n",
    "    Parameters\n",
    "    ----------\n",
    "    orig : customer or depot object\n",
    "        origin node\n",
    "    dest : customer or depot object\n",
    "        destination node\n",
    "    mode : string\n",
    "        type of distance metric to use (Euclidian or Haversine)\n",
    "\n",
    "    Returns\n",
    "    -------\n",
    "    dist : float\n",
    "        Distance between origin and destination node\n",
    "    \"\"\"\n",
    "    if mode == 'Euclidian':\n",
    "            dist =  math.sqrt((orig[0]-dest[0])**2+(orig[1]-dest[1])**2) \n",
    "    elif mode == 'Haversine':\n",
    "        dist = haversine([orig[0],orig[1]],[dest[0],dest[1]])\n",
    "    else:\n",
    "        dist = None\n",
    "        print(\"Undefined distance metric.\")\n",
    "    \n",
    "    return dist"
   ]
  },
  {
   "cell_type": "code",
   "execution_count": 12,
   "metadata": {},
   "outputs": [],
   "source": [
    "def closestNode(nodes, v, invDict):\n",
    "    \"\"\"\n",
    "    Returns the closest node (i.e., intersection) on an OSM road network graph to an arbitrary point in space.\n",
    "    Parameters\n",
    "    ----------\n",
    "    nodes: array-like of node locations (tuples)\n",
    "    v: point to test\n",
    "    invDict: dictionary of node location to node ID\n",
    "    \"\"\"\n",
    "    \n",
    "    # Function that returns the location of the node that is closest to the point tested\n",
    "    closest = min(nodes, key=lambda p: haversine([v[0],v[1]],[p[0],p[1]]))\n",
    "    # based on that location, return the ID of the closest node\n",
    "    return invDict[closest]"
   ]
  },
  {
   "cell_type": "code",
   "execution_count": 13,
   "metadata": {},
   "outputs": [],
   "source": [
    "def projectDataOSM(point_data, graph, Save=False, filename=None):\n",
    "    \"\"\"\n",
    "    Snaps point data (e.g., customers and their demand information) to an underlying road network represented by a graph.\n",
    "\n",
    "    Parameters\n",
    "    ----------\n",
    "    point_data : pandas dataframe \n",
    "        data frame containing data that can be tied to geographical locations (e.g., customer demand)\n",
    "    graph : graph object\n",
    "        graph representation of the underlying road network (from Networkx or OSMnx)\n",
    "    Save : boolean\n",
    "        whether or not the point data and the corresponding closest road network nodes should be saved to a CSV file\n",
    "        default: False\n",
    "    filename : string\n",
    "        filename to use in case Save is set to True\n",
    "        default: None\n",
    "\n",
    "    Returns\n",
    "    -------\n",
    "    Nothing\n",
    "    \"\"\"\n",
    "    \n",
    "    # Create dictionary that maps the (x,y) locations of nodes (keys) to the respective node IDs (values)\n",
    "    network_nodes = {}\n",
    "    for n in graph.nodes.keys():\n",
    "        network_nodes[(graph.nodes[n]['y'],graph.nodes[n]['x'])] = n\n",
    "        \n",
    "    # Snap each point in the point data to its nearest road network node (intersection)\n",
    "    # - Initialize an empty list that will have the closest network node\n",
    "    nodes = []\n",
    "    # - Initialize an empty list that will have the closest network Latitude\n",
    "    y = []\n",
    "    # - Initialize an empty list that will have the closest network Longitude\n",
    "    x=[]\n",
    "    # - Initialize an empty list that will have the distance betweeen road node and original node\n",
    "    dist=[]\n",
    "    # - Iterate through every row of the point data (i.e., every point)\n",
    "    for index,row in tqdm(point_data.iterrows()):\n",
    "        # - Find the closes road network node to that point and add it to the list\n",
    "        close_node_key = closestNode(network_nodes.keys(), (row.lat,row.lng), network_nodes)\n",
    "        nodes.append(close_node_key)\n",
    "        y.append(graph.nodes[close_node_key]['y'])\n",
    "        x.append(graph.nodes[close_node_key]['x'])\n",
    "        dist.append ( haversine([row.lat,row.lng],[graph.nodes[close_node_key]['y'],graph.nodes[close_node_key]['x']])         )\n",
    "                       \n",
    "    # - Add the list of closest road network nodes to the data frame containing the point data\n",
    "    point_data['closest_nw_node'] = nodes\n",
    "    point_data['y'] = y\n",
    "    point_data['x'] = x\n",
    "    point_data['dist'] = dist\n",
    "    \n",
    "    # Save point data including the nearest node information to a CSV file (optional)\n",
    "    if Save==True:\n",
    "        if filename == None:\n",
    "            print('File name not specified.')\n",
    "        else:\n",
    "            point_data.to_csv(filename)"
   ]
  },
  {
   "cell_type": "code",
   "execution_count": 14,
   "metadata": {},
   "outputs": [],
   "source": [
    "def mapDataOSM(demand_data, depot_data,g, snap_to_grid=True, route_data=None, route_colors='green', Plot=True, from_place=None, buffer_m=1500,):\n",
    "    \"\"\"\n",
    "    Takes customer demand data and depot information (i.e., point data), snaps it to the underlying road network \n",
    "    and plots it on a map.\n",
    "    Optionally also displays routes (i.e., sequences of road network arcs travelled on) on that same map.\n",
    "    \n",
    "    Parameters\n",
    "    ----------\n",
    "    demand_data : pandas data frame \n",
    "        Data frame containing all customer location specific demand data\n",
    "    depot_data : pandas data frame\n",
    "        Data frame containing all available depot locations\n",
    "    g : networkx graph object        \n",
    "    snap_to_grid : boolean\n",
    "        Whether or not the point data (demand_data and depot_data) still needs to be matched up with the closest\n",
    "        nodes of the underlying road network.\n",
    "        default: True\n",
    "    \n",
    "    route_data : list of lists of road network node IDs\n",
    "        Route information to be plotted (if any)\n",
    "        default: None\n",
    "    route_colors : string\n",
    "        TBD\n",
    "        default: 'green'\n",
    "    Plot : boolean\n",
    "        Whether or not to plot the data on a map\n",
    "        default: True\n",
    "\n",
    "    Returns\n",
    "    -------\n",
    "    fig, ax : figure and axis objects\n",
    "        required for plotting\n",
    "    \"\"\"  \n",
    "        # Get bounding box of customer locations and print its coordinates\n",
    "    \n",
    "    print('Bounding box of point data:')\n",
    "    ymax = max(demand_data.lat.append(demand_data.lat))\n",
    "    print(ymax,'y max')\n",
    "    ymin = min(demand_data.lat.append(demand_data.lat))\n",
    "    print(ymin,'y min')\n",
    "    xmax = max(demand_data.lng.append(demand_data.lng))\n",
    "    print(xmax,'x max')\n",
    "    xmin = min(demand_data.lng.append(demand_data.lng))\n",
    "    print(xmin,'x min')\n",
    "    \n",
    "    if from_place != None:\n",
    "        print('Place name used instead to retrieve road network:')\n",
    "        print(from_place)\n",
    "        \n",
    "    # Snap each point to nearest node (intersection) on road network graph\n",
    "###------ To reduce run time, snap the data points outside the function ### -------------   \n",
    "    if snap_to_grid==True:\n",
    "        print('Snapping point data to road network...')\n",
    "        projectDataOSM(demand_data, g)\n",
    "        projectDataOSM(depot_data, g)\n",
    "    else:\n",
    "        print('Assuming nodes already projected on OSM graph.')\n",
    "\n",
    "#### --------------------------------------------------------------------------------------    \n",
    "    # Plot on network   \n",
    "    \n",
    "    if Plot==True:\n",
    "        print('Plotting data on map...')\n",
    "        if route_data != None:\n",
    "            \n",
    "            fig, ax = ox.plot_graph_routes(g, \n",
    "                                           route_data, \n",
    "                                           fig_height=25, \n",
    "                                           node_size=2, \n",
    "                                           node_alpha=0.5,\n",
    "                                           edge_linewidth=0.3, \n",
    "                                           route_alpha=0.3,\n",
    "                                           route_color = route_colors,\n",
    "                                           orig_dest_node_color = 'green',\n",
    "                                           orig_dest_node_size = 4.0,\n",
    "                                           route_linewidth = 2.5,\n",
    "                                           dpi=300, \n",
    "                                           show=False, close=False)\n",
    "            \n",
    "        else:\n",
    "\n",
    "            fig, ax = ox.plot_graph(g, fig_height=20, show=False, close=False, edge_alpha = 0.25, node_alpha = 0)\n",
    "                   \n",
    "        ax.scatter(demand_data.lng,\n",
    "           demand_data.lat,\n",
    "           alpha=1.0,\n",
    "           color='red',\n",
    "           marker='s',\n",
    "           s=1)\n",
    "        \n",
    "        ax.scatter(depot_data.lng,\n",
    "           depot_data.lat,\n",
    "           alpha=1.0,\n",
    "           color='blue',\n",
    "           marker='s',\n",
    "           s=10)\n",
    "\n",
    "        plt.show()\n",
    "    \n",
    "    return g, fig, ax"
   ]
  },
  {
   "cell_type": "code",
   "execution_count": 16,
   "metadata": {},
   "outputs": [],
   "source": [
    "###Compute a pairwise distance matrix for a list of nodes..\n",
    "\n",
    "def d_matrix(origins, destinations,g=None,max_dist = 100, mode='Euclidian',returnPaths=False):\n",
    "    \"\"\"\n",
    "    Calculates a distance matrix\n",
    "\n",
    "    Parameters\n",
    "    ----------\n",
    "    origins : dict of  depot object\n",
    "    destinations : dict of  destination object\n",
    "       \n",
    "    mode : str\n",
    "        type of distance to use (Euclidian, Haversine, or OSM)\n",
    "        default value: Euclidian\n",
    "\n",
    "    Returns\n",
    "    -------\n",
    "    dist_mat : dict \n",
    "        origin-destination matrix of distances\n",
    "    \"\"\"\n",
    "    path_mat = None\n",
    "    if mode == 'Euclidian' or mode == 'Haversine':\n",
    "        \n",
    "        dist_mat = dict(\n",
    "            [((i,j),calc_dist(origins[i].loc,destinations[j].loc,mode)) \n",
    "             for i in tqdm(origins) for j in destinations if calc_dist(origins[i].loc,destinations[j].loc,mode) <max_dist]\n",
    "            )\n",
    "        path_mat = None\n",
    "        \n",
    "        return dist_mat\n",
    "        \n",
    "    elif mode == 'OSM':\n",
    "        if g == None:\n",
    "            dist_mat = {}\n",
    "            print(\"Network information missing.\")\n",
    "        else:\n",
    "            dist_mat = dict(\n",
    "                [((i,j),nx.shortest_path_length(g, origins[i].closestNetworkNode, destinations[j].closestNetworkNode, weight='length')) \n",
    "                 for i in tqdm(origins) for j in destinations]\n",
    "            )\n",
    "            if returnPaths == True:\n",
    "                path_mat = dict(\n",
    "                    [((i,j),nx.shortest_path(g, nodes[i].closestNetworkNode, nodes[j].closestNetworkNode)) \n",
    "                     for i in tqdm(origins) for j in destinations]\n",
    "                )\n",
    "            else:\n",
    "                path_mat = None\n",
    "            \n",
    "            return dist_mat, path_mat  \n",
    "    else: \n",
    "        dist_mat = {}\n",
    "        path_mat = None\n",
    "        print(\"Undefined distance metric.\")\n",
    "        \n",
    "    return dist_mat, path_mat"
   ]
  },
  {
   "cell_type": "markdown",
   "metadata": {},
   "source": [
    "### 7. Load the data"
   ]
  },
  {
   "cell_type": "code",
   "execution_count": 18,
   "metadata": {
    "scrolled": true
   },
   "outputs": [],
   "source": [
    "# load Population data \n",
    "# data input must have the following columns:  ID, Type, Name, lat, long\n",
    "pop = pd.read_csv('population_2x2.csv')"
   ]
  },
  {
   "cell_type": "code",
   "execution_count": 19,
   "metadata": {},
   "outputs": [],
   "source": [
    "# load health_facilities data \n",
    "# data input must have the following Columns: ID, Type, Name, lat, long\n",
    "hc = pd.read_csv('Health facilities.csv')"
   ]
  },
  {
   "cell_type": "code",
   "execution_count": 20,
   "metadata": {},
   "outputs": [],
   "source": [
    "# load outreach candidates data ( before snaping to road network)\n",
    "# data input must have the following Columns: ID, Type, Name, lat, long\n",
    "oc = pd.read_csv('Outreach center 2x2.csv')"
   ]
  },
  {
   "cell_type": "markdown",
   "metadata": {},
   "source": [
    "### 8. Create the dictionaries of classes"
   ]
  },
  {
   "cell_type": "code",
   "execution_count": 22,
   "metadata": {},
   "outputs": [],
   "source": [
    "# Population dictionary\n",
    "population= dict([\n",
    "     (pop.ID.iloc[i],\n",
    "     population_center(\n",
    "              pop.lat.iloc[i],\n",
    "              pop.lng.iloc[i],\n",
    "              pop.ID.iloc[i],\n",
    "              pop.Name.iloc[i],\n",
    "              pop.Population.iloc[i]*1.002/12 )) for i in range(len(pop)) ### THIS OPERATION CONVERTS THE TOTAL population of the region into vaccination doses requirement ( see section 4.2.3, Vaccination doses demand, of thesis)\n",
    "])"
   ]
  },
  {
   "cell_type": "code",
   "execution_count": 26,
   "metadata": {},
   "outputs": [],
   "source": [
    "# Outreach center dictionary\n",
    "outreach_centers = dict([\n",
    "    (oc.ID.iloc[i],\n",
    "     outreach_center (\n",
    "              oc.lat.iloc[i],\n",
    "              oc.lng.iloc[i],\n",
    "              oc.Name.iloc[i],\n",
    "              oc.ID.iloc[i])) for i in range(len(oc))\n",
    "])"
   ]
  },
  {
   "cell_type": "code",
   "execution_count": 27,
   "metadata": {},
   "outputs": [],
   "source": [
    "# Health center dictionary\n",
    "health_centers = dict([\n",
    "    (hc.ID.iloc[i],\n",
    "     health_center (\n",
    "              hc.lat.iloc[i],\n",
    "              hc.lng.iloc[i],\n",
    "              hc.ID.iloc[i],             \n",
    "              hc.Name.iloc[i])) for i in range(len(hc))\n",
    "])"
   ]
  },
  {
   "cell_type": "code",
   "execution_count": 68,
   "metadata": {},
   "outputs": [],
   "source": [
    "origins ={}\n",
    "destination={}\n",
    "nodes = {}\n",
    "origins = {**outreach_centers,**health_centers}\n",
    "destination = {**outreach_centers,**population}\n",
    "nodes = {**population,**outreach_centers,**health_centers}"
   ]
  },
  {
   "cell_type": "markdown",
   "metadata": {},
   "source": [
    "### 9. Node projection in road network"
   ]
  },
  {
   "cell_type": "code",
   "execution_count": 22,
   "metadata": {},
   "outputs": [
    {
     "name": "stderr",
     "output_type": "stream",
     "text": [
      "3952it [10:25,  6.32it/s]\n"
     ]
    }
   ],
   "source": [
    "###--- Proeject the read outreach centers  in the road network, fiding the closest node of the network, be carefull takes 40 min to run-\n",
    "##- Receives a data frame OC and the OSM graph and returns the data frame with closest network node latitude/longitude and its distance\n",
    "projectDataOSM(oc, g, Save=False, filename=None)"
   ]
  },
  {
   "cell_type": "code",
   "execution_count": 23,
   "metadata": {},
   "outputs": [],
   "source": [
    "### Export the projected outreach centers to A CSV file\n",
    "oc.to_csv('Outreach Centers with Road network point 2x2.csv')"
   ]
  },
  {
   "cell_type": "code",
   "execution_count": 25,
   "metadata": {},
   "outputs": [],
   "source": [
    "### Add to the outreach object the closest network node \n",
    "for index,row in (oc.iterrows()):\n",
    "        # - Find the closes road network node to that point and add it to the list\n",
    "        outreach_centers[row.ID].closestNetworkNode =  (row.closest_nw_node)"
   ]
  },
  {
   "cell_type": "code",
   "execution_count": 26,
   "metadata": {},
   "outputs": [
    {
     "name": "stderr",
     "output_type": "stream",
     "text": [
      "80it [00:18,  4.43it/s]\n"
     ]
    }
   ],
   "source": [
    "###--- Proeject the read HC in the OSM network, fiding the closest network, be carefull takes 40 min to run--- \n",
    "projectDataOSM(hc, g, Save=False, filename=None)"
   ]
  },
  {
   "cell_type": "code",
   "execution_count": 27,
   "metadata": {},
   "outputs": [],
   "source": [
    "### Export the projected outreach centers to A CSV file\n",
    "hc.to_csv('Health Centers with Road network point.csv')"
   ]
  },
  {
   "cell_type": "code",
   "execution_count": 29,
   "metadata": {},
   "outputs": [],
   "source": [
    "### Add to the health_center object the closest network node \n",
    "for index,row in (hc.iterrows()):\n",
    "        # - Find the closes road network node to that point and add it to the list\n",
    "        health_centers[row.ID].closestNetworkNode =  (row.closest_nw_node)"
   ]
  },
  {
   "cell_type": "markdown",
   "metadata": {},
   "source": [
    "### 10. Filtering of duplicate outreach candidate  sites "
   ]
  },
  {
   "cell_type": "code",
   "execution_count": 113,
   "metadata": {},
   "outputs": [],
   "source": [
    "oc=pd.read_csv('Outreach Centers with Road network point 2x2.csv')"
   ]
  },
  {
   "cell_type": "code",
   "execution_count": 50,
   "metadata": {},
   "outputs": [],
   "source": [
    "# the candidate site for outreacg will be a network node. If more than one point of the grid have as closest network node the same point\n",
    "# only one point node shall be considered ( see section 4.2.7 of the capstone)\n",
    "oc_filtered = pd.pivot_table(oc, values=['y','x'], index = 'closest_nw_node', aggfunc=[np.mean])\n",
    "oc_filtered.columns = ['lng','lat', ]\n",
    "oc_filtered = oc_filtered.reset_index()\n",
    "oc_filtered['ID']= oc_filtered['closest_nw_node']\n",
    "oc_filtered['Name']= oc_filtered['closest_nw_node']"
   ]
  },
  {
   "cell_type": "code",
   "execution_count": 51,
   "metadata": {},
   "outputs": [],
   "source": [
    "##Updates the outreach centers candidates\n",
    "outreach_centers={}\n",
    "outreach_centers = dict([\n",
    "    (oc_filtered.ID.iloc[i],\n",
    "     outreach_center (\n",
    "              oc_filtered.lat.iloc[i],\n",
    "              oc_filtered.lng.iloc[i],\n",
    "              oc_filtered.Name.iloc[i],\n",
    "              oc_filtered.ID.iloc[i])) for i in range(len(oc_filtered))\n",
    "])"
   ]
  },
  {
   "cell_type": "code",
   "execution_count": 52,
   "metadata": {},
   "outputs": [],
   "source": [
    "### Add to the outreach object the closest network node \n",
    "for index,row in (oc_filtered.iterrows()):\n",
    "        # - Find the closes road network node to that point and add it to the list\n",
    "        outreach_centers[row.ID].closestNetworkNode =  (row.closest_nw_node)"
   ]
  },
  {
   "cell_type": "markdown",
   "metadata": {},
   "source": [
    "### 11. Creates consolidated dictionary with all nodes"
   ]
  },
  {
   "cell_type": "code",
   "execution_count": 35,
   "metadata": {},
   "outputs": [
    {
     "name": "stdout",
     "output_type": "stream",
     "text": [
      "origins, destination, total 2438 6310 6390\n"
     ]
    }
   ],
   "source": [
    "origins ={}\n",
    "destination={}\n",
    "nodes = {}\n",
    "origins = {**outreach_centers,**health_centers}\n",
    "destination = {**outreach_centers,**population}\n",
    "nodes = {**population,**outreach_centers,**health_centers}\n",
    "print (\"origins, destination, total\",len ( origins),len(destination),  len ( nodes))"
   ]
  },
  {
   "cell_type": "markdown",
   "metadata": {},
   "source": [
    "### 12  Road  Distance - calculationOSM ( takes 16 hours to run) - \n",
    "#### 12.1 USE THIS CODE BLOCK IF YOU DON'T HAVE THE DISTANCES CALCULATED IN A CSV"
   ]
  },
  {
   "cell_type": "code",
   "execution_count": 38,
   "metadata": {},
   "outputs": [
    {
     "name": "stderr",
     "output_type": "stream",
     "text": [
      "100%|██████████| 80/80 [00:01<00:00, 57.27it/s]\n"
     ]
    }
   ],
   "source": [
    "#pre - process in super computer and read the matrix through a csv file ( takes so much because it solves the shortest path problem for each OD )\n",
    "dist_f_o_OSM=  d_matrix(health_centers, outreach_centers,g,max_dist = 100, mode='OSM',returnPaths=False)\n"
   ]
  },
  {
   "cell_type": "code",
   "execution_count": null,
   "metadata": {},
   "outputs": [],
   "source": [
    "dist_f_o_OSM  = dist_f_o_OSM[0]"
   ]
  },
  {
   "cell_type": "code",
   "execution_count": 76,
   "metadata": {},
   "outputs": [],
   "source": [
    "### This code block creates a data frame and exports the road distances, this avoids that the road distance calculation need to be done every time\n",
    "df_dist_f_o_OSM = pd.DataFrame(columns=['key', 'distance[Km]'])\n",
    "for key in dist_f_o_OSM:\n",
    "    df_dist_f_o_OSM = df_dist_f_o_OSM.append({'key':  key ,'distance[m]': dist_f_o_OSM[key]} ,ignore_index = True)       \n",
    "df_dist_f_o_OSM.to_csv('OSM_road_network_distances.csv')\n"
   ]
  },
  {
   "cell_type": "markdown",
   "metadata": {},
   "source": [
    "#### 12.2  USE THIS CODE BLOCK IF YOU  HAVE THE DISTANCES ALREADY CALCULATED IN A CSV"
   ]
  },
  {
   "cell_type": "code",
   "execution_count": 58,
   "metadata": {},
   "outputs": [
    {
     "name": "stdout",
     "output_type": "stream",
     "text": [
      "169573 df_dist_osm\n"
     ]
    }
   ],
   "source": [
    "## we are only reading the OD pairs that have a distance lower than 35 km , can be customizable\n",
    "df_dist_osm = pd.read_csv('OSM_road_network_distances_full_2x2_les35000.CSV') \n",
    "print(str(len(df_dist_osm))+' df_dist_osm')"
   ]
  },
  {
   "cell_type": "code",
   "execution_count": 57,
   "metadata": {},
   "outputs": [],
   "source": [
    "dist_f_o_OSM= dict([\n",
    "    (eval(df_dist_osm.key.iloc[i]) ,df_dist_osm.distance.iloc[i]) for i in range(len(df_dist_osm)) ])"
   ]
  },
  {
   "cell_type": "markdown",
   "metadata": {},
   "source": [
    "### Nodes visualitzation"
   ]
  },
  {
   "cell_type": "code",
   "execution_count": null,
   "metadata": {},
   "outputs": [],
   "source": [
    "# Project the full gridt it\n",
    "myg, fig, ax = mapDataOSM(oc,hc,g, snap_to_grid=False, from_place = 'Gambia', buffer_m=500)"
   ]
  },
  {
   "cell_type": "markdown",
   "metadata": {},
   "source": [
    "### 13 Calculate other distances "
   ]
  },
  {
   "cell_type": "code",
   "execution_count": 88,
   "metadata": {},
   "outputs": [
    {
     "name": "stderr",
     "output_type": "stream",
     "text": [
      "100%|██████████| 2358/2358 [00:55<00:00, 42.40it/s]\n"
     ]
    }
   ],
   "source": [
    "### Linear distance from outreach center to population regions centroids\n",
    "dist_o_j = {}\n",
    "dist_o_j= d_matrix(outreach_centers, population,max_dist = 10,returnPaths=True,mode='Haversine')"
   ]
  },
  {
   "cell_type": "code",
   "execution_count": 63,
   "metadata": {},
   "outputs": [
    {
     "name": "stderr",
     "output_type": "stream",
     "text": [
      "100%|██████████| 80/80 [00:01<00:00, 45.09it/s]\n"
     ]
    }
   ],
   "source": [
    "### Linear distance from fixed health center  center to population regions centroids\n",
    "dist_f_j= d_matrix(health_centers, population,max_dist = 10,returnPaths=True,mode='Haversine')"
   ]
  },
  {
   "cell_type": "code",
   "execution_count": 70,
   "metadata": {},
   "outputs": [],
   "source": [
    "distances = {**dist_o_j,**dist_f_j,**dist_f_o_OSM }"
   ]
  },
  {
   "cell_type": "markdown",
   "metadata": {},
   "source": [
    "### 14 .Demand of archs"
   ]
  },
  {
   "cell_type": "code",
   "execution_count": 71,
   "metadata": {},
   "outputs": [],
   "source": [
    "### calculates the demand matrix to all the customers assuming the decrease in coverage due to increase in distance given in function calc_demand_factor\n",
    "demand_mat = dict(\n",
    "    [((i,j), calc_demand_factor (i,j,distances,2,10) * population[j].D )\n",
    "             for i in origins for j in population if (i,j) in distances ]) "
   ]
  },
  {
   "cell_type": "markdown",
   "metadata": {},
   "source": [
    "### 15 .Input variables"
   ]
  },
  {
   "attachments": {
    "image.png": {
     "image/png": "[encoded data removed]"
    }
   },
   "cell_type": "markdown",
   "metadata": {},
   "source": [
    "![image.png](attachment:image.png)"
   ]
  },
  {
   "cell_type": "code",
   "execution_count": 90,
   "metadata": {},
   "outputs": [],
   "source": [
    "Budget = 12000\n",
    "COv = 0.6  \n",
    "CEo = 3.68\n",
    "CEf = 3.68\n",
    "PEo = 120 \n",
    "PEf = 160  \n",
    "Cfj = 0.02 + CEf/PEf\n",
    "Coj = 0.02 + CEo/PEo \n",
    "Vcv = 3 \n",
    "Vdc = 267 \n",
    "Ve = 5 \n",
    "PEo = 120 "
   ]
  },
  {
   "cell_type": "markdown",
   "metadata": {},
   "source": [
    "### 16. Model initialization"
   ]
  },
  {
   "cell_type": "code",
   "execution_count": 73,
   "metadata": {},
   "outputs": [
    {
     "name": "stdout",
     "output_type": "stream",
     "text": [
      "Using license file C:\\Users\\carretti\\gurobi.lic\n",
      "Academic license - for non-commercial use only\n",
      "Discarded solution information\n"
     ]
    }
   ],
   "source": [
    "m = gp.Model('Final model V1')\n",
    "m.reset()\n",
    "m.update()"
   ]
  },
  {
   "cell_type": "markdown",
   "metadata": {},
   "source": [
    "### 17. Add Decision variables"
   ]
  },
  {
   "cell_type": "code",
   "execution_count": 75,
   "metadata": {},
   "outputs": [
    {
     "data": {
      "text/plain": [
       "214684"
      ]
     },
     "execution_count": 75,
     "metadata": {},
     "output_type": "execute_result"
    }
   ],
   "source": [
    "#number of doses administrated to population in region j by outreach site o,\n",
    "Xoj = dict(\n",
    "    [((o,j), m.addVar(vtype=GRB.CONTINUOUS, lb=0.0, name=\"Xoj_%s_%s\" %(o,j))) \n",
    "     for o in outreach_centers \n",
    "     for j in population if (o,j)in dist_o_j ]\n",
    ")"
   ]
  },
  {
   "cell_type": "code",
   "execution_count": 77,
   "metadata": {},
   "outputs": [],
   "source": [
    "# Total number of resource bundles sent from fixed health center f to outreach location o \n",
    "Xfo = dict(\n",
    "    [((f,o), m.addVar(vtype=GRB.INTEGER, lb=0.0, name=\"Xfo_%s_%s\" %(f,o))) \n",
    "     for f in health_centers \n",
    "     for o in outreach_centers if (f,o)in dist_f_o_OSM ]\n",
    ")"
   ]
  },
  {
   "cell_type": "code",
   "execution_count": 78,
   "metadata": {},
   "outputs": [],
   "source": [
    "Xfj = dict(\n",
    "    [((f,j), m.addVar(vtype=GRB.CONTINUOUS, lb=0.0, name=\"Xfj_%s_%s\" %(f,j))) \n",
    "     for f in health_centers\n",
    "     for j in population if (f,j)in dist_f_j ]\n",
    ")"
   ]
  },
  {
   "cell_type": "code",
   "execution_count": 79,
   "metadata": {},
   "outputs": [],
   "source": [
    "Yfj = dict(\n",
    "    [((f,j), m.addVar(vtype=GRB.BINARY, lb=0.0, name=\"Yfj_%s_%s\" %(f,j))) \n",
    "     for f in health_centers \n",
    "     for j in population if (f,j)in dist_f_j  ]\n",
    ")"
   ]
  },
  {
   "cell_type": "code",
   "execution_count": 80,
   "metadata": {},
   "outputs": [],
   "source": [
    "Yoj = dict(\n",
    "    [((o,j), m.addVar(vtype=GRB.BINARY, lb=0.0, name=\"Yoj_%s_%s\" %(o,j))) \n",
    "     for o in outreach_centers \n",
    "     for j in population if (o,j)in dist_o_j  ]\n",
    ")"
   ]
  },
  {
   "cell_type": "markdown",
   "metadata": {},
   "source": [
    "### 18 Set Optimization Objective"
   ]
  },
  {
   "cell_type": "code",
   "execution_count": 82,
   "metadata": {},
   "outputs": [],
   "source": [
    "m.setObjective(\n",
    "    quicksum([Xoj[(o,j)] \n",
    "              for o in outreach_centers \n",
    "              for j in population if (o,j)in dist_o_j ])\n",
    "     +quicksum([Xfj[(f,j)] \n",
    "              for f in health_centers \n",
    "              for j in population if (f,j)in dist_f_j ])\n",
    "   ,\n",
    "              GRB.MAXIMIZE)"
   ]
  },
  {
   "cell_type": "markdown",
   "metadata": {},
   "source": [
    "### 19 Add Constraints"
   ]
  },
  {
   "cell_type": "code",
   "execution_count": 83,
   "metadata": {},
   "outputs": [],
   "source": [
    "### (3) Demand constraint for health centers archs\n",
    "C_1= dict(\n",
    "    [((f,j),m.addConstr( Xfj[(f,j)]\n",
    "                                <= \n",
    "                        demand_mat[(f,j)]*Yfj[(f,j)]\n",
    "                     ,                \"Health_facility_demand_arch_%s_%s\"%(f,j)) )\n",
    "     for f in health_centers \n",
    "     for j in population if (f,j)in dist_f_j]\n",
    ")"
   ]
  },
  {
   "cell_type": "code",
   "execution_count": 84,
   "metadata": {},
   "outputs": [],
   "source": [
    "### (4) Demand constraint for outreaches\n",
    "C_2= dict(\n",
    "    [((o,j),m.addConstr( Xoj[(o,j)]\n",
    "                                <= \n",
    "                    demand_mat[(o,j)]*Yoj[(o,j)]\n",
    "                     ,                \"Outreach_demand_arch_%s_%s\"%(o,j)) )\n",
    "     for o in outreach_centers \n",
    "     for j in population if (o,j)in dist_o_j ]\n",
    ")"
   ]
  },
  {
   "cell_type": "code",
   "execution_count": 85,
   "metadata": {},
   "outputs": [],
   "source": [
    "### (6) Single source constraint \n",
    "C_7 = dict(\n",
    "    [((j),m.addConstr( quicksum(Yfj[(f,j)]  for f in health_centers if (f,j)in dist_f_j)+\n",
    "                       quicksum(Yoj[(o,j)]  for o in outreach_centers if (o,j)in dist_o_j) \n",
    "                       <=\n",
    "                       1\n",
    "                      ,\n",
    "    \"single_service%s\" %(j)))\n",
    "     for j in population]\n",
    ")"
   ]
  },
  {
   "cell_type": "code",
   "execution_count": 91,
   "metadata": {},
   "outputs": [],
   "source": [
    "### (5.2 ) Flow conservation - Guarantee that cold box avaialability is respected\n",
    "C_13 = dict(\n",
    "    [((o),m.addConstr( quicksum(Xfo[(f,o)]* Vcv * Vdc  for f in health_centers if (f,o)in dist_f_o_OSM ) \n",
    "                       >=\n",
    "                       quicksum(Xoj[(o,j)]  for j in population if (o,j)in dist_o_j)\n",
    "                      ,\n",
    "    \"flow_conservation%s\" %(o)))\n",
    "     for o in outreach_centers]\n",
    ")"
   ]
  },
  {
   "cell_type": "code",
   "execution_count": 92,
   "metadata": {},
   "outputs": [],
   "source": [
    "### (5.1) Flow conservation - Guarantee that human resource availability is respected\n",
    "C_14 = dict(\n",
    "    [((o),m.addConstr( quicksum(Xfo[(f,o)]* Ve * PEo  for f in health_centers if (f,o)in dist_f_o_OSM ) \n",
    "                       >=\n",
    "                       quicksum(Xoj[(o,j)]  for j in population if (o,j)in dist_o_j)\n",
    "                      ,\n",
    "    \"flow_conservation%s\" %(o)))\n",
    "     for o in outreach_centers]\n",
    ")"
   ]
  },
  {
   "cell_type": "code",
   "execution_count": 94,
   "metadata": {},
   "outputs": [],
   "source": [
    "### Budget \n",
    "C_15 = dict(\n",
    "    [('budget',m.addConstr( \n",
    "                        quicksum (Xfo[(f,o)]* ( COv * dist_f_o_OSM[(f,o)]/1000 +CEo)\n",
    "                        for f in health_centers\n",
    "                        for o in outreach_centers\n",
    "                        if (f,o)in dist_f_o_OSM)\n",
    "        +\n",
    "                        quicksum (Xfj[(f,j)]*Cfj   \n",
    "                        for f in health_centers\n",
    "                        for j in population\n",
    "                        if (f,j)in dist_f_j)   \n",
    "        +    \n",
    "                        quicksum (Xoj[(o,j)]*Coj   \n",
    "                        for o in outreach_centers\n",
    "                        for j in population\n",
    "                        if (o,j)in dist_o_j) \n",
    "        \n",
    "                       <=\n",
    "                       Budget                  ,\n",
    "    \"budget is respected\") )\n",
    "    ]\n",
    ")"
   ]
  },
  {
   "cell_type": "markdown",
   "metadata": {},
   "source": [
    "### 20 Optimize"
   ]
  },
  {
   "cell_type": "code",
   "execution_count": 95,
   "metadata": {
    "scrolled": true,
    "slideshow": {
     "slide_type": "-"
    }
   },
   "outputs": [
    {
     "name": "stdout",
     "output_type": "stream",
     "text": [
      "Changed value of parameter timelimit to 12000.0\n",
      "   Prev: inf  Min: 0.0  Max: inf  Default: inf\n",
      "Changed value of parameter MIPGap to 0.2\n",
      "   Prev: 0.0001  Min: 0.0  Max: inf  Default: 0.0001\n",
      "Gurobi Optimizer version 9.0.1 build v9.0.1rc0 (win64)\n",
      "Optimize a model with 444766 rows, 823892 columns and 2243534 nonzeros\n",
      "Model fingerprint: 0x54b189fd\n",
      "Variable types: 436097 continuous, 387795 integer (221413 binary)\n",
      "Coefficient statistics:\n",
      "  Matrix range     [2e-05, 2e+03]\n",
      "  Objective range  [1e+00, 1e+00]\n",
      "  Bounds range     [1e+00, 1e+00]\n",
      "  RHS range        [1e+00, 1e+04]\n",
      "Found heuristic solution: objective -0.0000000\n",
      "Presolve removed 228497 rows and 397853 columns (presolve time = 5s) ...\n",
      "Presolve removed 228497 rows and 397853 columns\n",
      "Presolve time: 8.88s\n",
      "Presolved: 216269 rows, 426039 columns, 1071525 nonzeros\n",
      "Variable types: 213850 continuous, 212189 integer (210144 binary)\n",
      "\n",
      "Deterministic concurrent LP optimizer: primal and dual simplex\n",
      "Showing first log only...\n",
      "\n",
      "\n",
      "Root simplex log...\n",
      "\n",
      "Iteration    Objective       Primal Inf.    Dual Inf.      Time\n",
      "       0    1.6592564e+05   0.000000e+00   6.413683e+06     12s\n",
      "   10446    1.6773255e+05   0.000000e+00   0.000000e+00     12s\n",
      "   10446    1.6773255e+05   0.000000e+00   0.000000e+00     13s\n",
      "Concurrent spin time: 0.23s\n",
      "\n",
      "Solved with dual simplex\n",
      "\n",
      "Root relaxation: objective 1.677326e+05, 688 iterations, 2.80 seconds\n",
      "Total elapsed time = 15.33s\n",
      "Total elapsed time = 22.06s\n",
      "\n",
      "    Nodes    |    Current Node    |     Objective Bounds      |     Work\n",
      " Expl Unexpl |  Obj  Depth IntInf | Incumbent    BestBd   Gap | It/Node Time\n",
      "\n",
      "     0     0 167732.551    0 1062   -0.00000 167732.551      -     -   24s\n",
      "H    0     0                    3105.3643953 167732.551  5301%     -   24s\n",
      "H    0     0                    147142.36121 167732.551  14.0%     -   25s\n",
      "\n",
      "Explored 1 nodes (1621 simplex iterations) in 25.58 seconds\n",
      "Thread count was 4 (of 4 available processors)\n",
      "\n",
      "Solution count 3: 147142 3105.36 -0 \n",
      "\n",
      "Optimal solution found (tolerance 2.00e-01)\n",
      "Best objective 1.471423612099e+05, best bound 1.677325508138e+05, gap 13.9934%\n"
     ]
    }
   ],
   "source": [
    "# Set model parameters\n",
    "m.Params.timelimit = 12000.0     # set maximum runtime in seconds\n",
    "m.Params.MIPGap = 0.01         # set maximum allowable optimality gap (0.01 = 1%)\n",
    "\n",
    "# Optimize model\n",
    "m.optimize()"
   ]
  },
  {
   "cell_type": "markdown",
   "metadata": {},
   "source": [
    "### 21 Result analysis"
   ]
  },
  {
   "cell_type": "code",
   "execution_count": 97,
   "metadata": {},
   "outputs": [],
   "source": [
    "## Calculates vehicle operation costs\n",
    "cost_vehicle= 0\n",
    "for f in health_centers:\n",
    "        for o in outreach_centers:\n",
    "            if (f,o)in dist_f_o_OSM:\n",
    "                if (Xfo[(f,o)].X>0.1):\n",
    "                    if ((f,o) != ('283_HC', 2562702299)): #erro na hora de importar a planilha, distancia ta zerada para essa od - nao muda o resultado pq didstnacia dela eh maior que 75 km\n",
    "                    #cost_bundle =  Xfo[(f,o)].X *(distances[(f,o)]*CVfo + CFfo) + cost_bundle\n",
    "                        cost_vehicle =  Xfo[(f,o)].X *(COv *dist_f_o_OSM[(f,o)]/1000 +CEo )+ cost_vehicle"
   ]
  },
  {
   "cell_type": "code",
   "execution_count": 98,
   "metadata": {},
   "outputs": [],
   "source": [
    "## Outreach site cost ( vaccine + staff)\n",
    "cost_outreach_emp_cold= 0\n",
    "for o in outreach_centers:\n",
    "        for j in population:\n",
    "            if (o,j)in dist_o_j:\n",
    "                if (Xoj[(o,j)].X>0.1):\n",
    "                    #cost_bundle =  Xfo[(f,o)].X *(distances[(f,o)]*CVfo + CFfo) + cost_bundle\n",
    "                    cost_outreach_emp_cold =  Xoj[(o,j)].X *Coj + cost_outreach_emp_cold\n"
   ]
  },
  {
   "cell_type": "code",
   "execution_count": 100,
   "metadata": {},
   "outputs": [],
   "source": [
    "## Health center cost ( vaccine + staff)\n",
    "cost_fixed_hc= 0\n",
    "for f in health_centers:\n",
    "        for j in population:\n",
    "            if (f,j)in dist_f_j:\n",
    "                if (Xfj[(f,j)].X>0.1):\n",
    "                    cost_fixed_hc =  Xfj[(f,j)].X *Cfj + cost_fixed_hc"
   ]
  },
  {
   "cell_type": "code",
   "execution_count": 101,
   "metadata": {},
   "outputs": [],
   "source": [
    "total_cost = cost_vehicle + cost_outreach_emp_cold + cost_fixed_hc"
   ]
  },
  {
   "cell_type": "code",
   "execution_count": null,
   "metadata": {},
   "outputs": [],
   "source": [
    "print('total cost' , total_cost) \n",
    "print ('Fixed_hc_cost', cost_fixed_hc )\n",
    "print ('Outreach_cost', cost_outreach_emp_cold +cost_vehicle  )"
   ]
  },
  {
   "cell_type": "code",
   "execution_count": 109,
   "metadata": {},
   "outputs": [],
   "source": [
    "### Resource bundles flow Xfo Data frame\n",
    "df_Xfo = pd.DataFrame(columns=['health_center_id', 'outreach_center_id', 'bundles','distance[Km]', ])\n",
    "for f in health_centers:\n",
    "        for o in  outreach_centers:\n",
    "             if (f,o)in dist_f_o_OSM:\n",
    "                if ( Xfo[(f,o)].X )>0.0001:\n",
    "                    df_Xfo = df_Xfo.append({'health_center_id':  f ,'outreach_center_id':o,'bundles': round(Xfo[(f,o)].X,2), 'distance[Km]': distances[(f,o)]/1000 } ,ignore_index = True)           "
   ]
  },
  {
   "cell_type": "code",
   "execution_count": 110,
   "metadata": {},
   "outputs": [],
   "source": [
    "### Fixed health center vaccine flow Xfj Data frame\n",
    "df_Xfj = pd.DataFrame(columns=['health_center_id', 'population_ID', 'Distributed_Doses','distance[Km]',\n",
    "                               'Total_Doses_Demand', 'Reachness factor(%)'])\n",
    "for f in health_centers:\n",
    "        for j in  population:\n",
    "            if (f,j)in dist_f_j:\n",
    "                if ( Xfj[(f,j)].X )>0.0001:\n",
    "                    df_Xfj = df_Xfj.append({'health_center_id':  f ,'population_ID':j,'Distributed_Doses': round(Xfj[(f,j)].X,2), 'distance[Km]': distances[(f,j)], \n",
    "                                            'Total_Doses_Demand':population[j].D, 'Reachness factor(%)': round(calc_demand_factor (f,j,distances,2,10) *100,1),  } ,ignore_index = True)           \n"
   ]
  },
  {
   "cell_type": "code",
   "execution_count": 111,
   "metadata": {},
   "outputs": [],
   "source": [
    "### Fixed health center vaccine flow Xfj Data frame\n",
    "df_Xoj = pd.DataFrame(columns=['outreach_center_id', 'population_ID', 'Distributed_Doses','distance[Km]',\n",
    "                               'Total_Doses_Demand', 'Reachness factor(%)'])\n",
    "for o in outreach_centers:\n",
    "        for j in  population:\n",
    "            if (o,j)in dist_o_j: \n",
    "                if (Xoj[(o,j)].X )>0.0001:\n",
    "                    df_Xoj = df_Xoj.append({'outreach_center_id':  o ,'population_ID':j,'Distributed_Doses': round(Xoj[(o,j)].X,2), 'distance[Km]': distances[(o,j)]  ,\n",
    "                                            'Total_Doses_Demand':population[j].D, 'Reachness factor(%)': round(calc_demand_factor (o,j,distances)*100,1),  } ,ignore_index = True)           "
   ]
  },
  {
   "cell_type": "markdown",
   "metadata": {},
   "source": [
    "### Immunization KPI's"
   ]
  },
  {
   "cell_type": "code",
   "execution_count": 80,
   "metadata": {},
   "outputs": [],
   "source": [
    "target_population=0\n",
    "for i in population:\n",
    "    target_population = population [i].D + target_population"
   ]
  },
  {
   "cell_type": "code",
   "execution_count": 81,
   "metadata": {},
   "outputs": [
    {
     "name": "stdout",
     "output_type": "stream",
     "text": [
      "Total immunization: 166749\n",
      "Total population 171753\n",
      "Coverage 97.1  %\n"
     ]
    }
   ],
   "source": [
    "print('Total immunization: %g' % round(m.objVal,0))\n",
    "print('Total population %g'%round(target_population,0) )\n",
    "print('Coverage %g '% round((m.objVal/target_population *100),1),\"%\" )\n"
   ]
  },
  {
   "cell_type": "code",
   "execution_count": 82,
   "metadata": {},
   "outputs": [
    {
     "name": "stdout",
     "output_type": "stream",
     "text": [
      "population nodes serviced by outreach:  3551\n",
      "population nodes serviced by fixed HC:  394\n"
     ]
    }
   ],
   "source": [
    "print('population nodes serviced by outreach: ', df_Xoj['population'].count())\n",
    "print('population nodes serviced by fixed HC: ', df_Xfj['population'].count())"
   ]
  },
  {
   "cell_type": "code",
   "execution_count": 83,
   "metadata": {},
   "outputs": [
    {
     "name": "stdout",
     "output_type": "stream",
     "text": [
      "total population serviced by outreach: 110291\n",
      "total population service by fixed HC: 56458\n"
     ]
    }
   ],
   "source": [
    "print('total population serviced by outreach: %g' %  round(df_Xoj['immunized_children'].sum()))\n",
    "print('total population service by fixed HC: %g'% round(df_Xfj['immunized_children'].sum()))"
   ]
  },
  {
   "cell_type": "code",
   "execution_count": 84,
   "metadata": {},
   "outputs": [
    {
     "name": "stdout",
     "output_type": "stream",
     "text": [
      "2.1919837648638083 1.858273503012196\n"
     ]
    }
   ],
   "source": [
    "print ( df_Xoj['distance[Km]'].mean(),df_Xfj['distance[Km]'].mean())\n"
   ]
  },
  {
   "cell_type": "markdown",
   "metadata": {},
   "source": [
    "### Outreach operation KPI's"
   ]
  },
  {
   "cell_type": "code",
   "execution_count": 85,
   "metadata": {},
   "outputs": [
    {
     "name": "stdout",
     "output_type": "stream",
     "text": [
      "number outreach facilities open: 449\n"
     ]
    }
   ],
   "source": [
    "print('number outreach facilities open: %g' %  round(df_Xoj['outreach_center_id'].nunique()))"
   ]
  },
  {
   "cell_type": "code",
   "execution_count": 86,
   "metadata": {},
   "outputs": [
    {
     "name": "stdout",
     "output_type": "stream",
     "text": [
      "Basic statisitics of immunized children per open outreach\n",
      "max 3415.1800000000003\n",
      "min 41.0\n",
      "avg 246.0\n"
     ]
    }
   ],
   "source": [
    "#### basic outreach statistics\n",
    "avg = df_Xoj['immunized_children'].groupby(df_Xoj['outreach_center_id']).sum().mean()\n",
    "maxi = df_Xoj['immunized_children'].groupby(df_Xoj['outreach_center_id']).sum().max()\n",
    "mini = df_Xoj['immunized_children'].groupby(df_Xoj['outreach_center_id']).sum().min()\n",
    "print ('Basic statisitics of immunized children per open outreach')\n",
    "print ('max',(maxi))\n",
    "print ('min',round(mini))\n",
    "print ('avg',round(avg))"
   ]
  },
  {
   "cell_type": "code",
   "execution_count": 87,
   "metadata": {},
   "outputs": [
    {
     "data": {
      "text/plain": [
       "449"
      ]
     },
     "execution_count": 87,
     "metadata": {},
     "output_type": "execute_result"
    }
   ],
   "source": [
    "### Number of distinct outreach centers serviced from each HC\n",
    "df_Xfo['outreach_center_id'].groupby(df_Xfo['health_center_id']).nunique().sum()"
   ]
  },
  {
   "cell_type": "code",
   "execution_count": 88,
   "metadata": {},
   "outputs": [
    {
     "name": "stdout",
     "output_type": "stream",
     "text": [
      " average distance or from fixed center 8.149091097995546\n",
      " maximum distance or from fixed center 26.083616000000003\n",
      " minimum distance or from fixed center 0.51516\n"
     ]
    }
   ],
   "source": [
    "##distance\n",
    "\n",
    "print ( ' average distance or from fixed center' , df_Xfo['distance[Km]'].mean()) \n",
    "print ( ' maximum distance or from fixed center' , df_Xfo['distance[Km]'].max()) \n",
    "print ( ' minimum distance or from fixed center' , df_Xfo['distance[Km]'].min()) "
   ]
  },
  {
   "cell_type": "markdown",
   "metadata": {},
   "source": [
    "### Fixed HC operation kpi's"
   ]
  },
  {
   "cell_type": "code",
   "execution_count": 89,
   "metadata": {},
   "outputs": [
    {
     "name": "stdout",
     "output_type": "stream",
     "text": [
      "number of opened HC: 73\n"
     ]
    }
   ],
   "source": [
    "print('number of opened HC: %g'% round(df_Xfj['health_center_id'].nunique()))"
   ]
  },
  {
   "cell_type": "code",
   "execution_count": 90,
   "metadata": {},
   "outputs": [
    {
     "name": "stdout",
     "output_type": "stream",
     "text": [
      "Number of bundles: 474\n"
     ]
    }
   ],
   "source": [
    "print('Number of bundles: %g'% round(df_Xfo['bundles'].sum()))"
   ]
  },
  {
   "cell_type": "code",
   "execution_count": 91,
   "metadata": {},
   "outputs": [
    {
     "name": "stdout",
     "output_type": "stream",
     "text": [
      "Basic statisitics of immunized children per open outreach\n",
      "max 6536.259999999999\n",
      "min <built-in function min>\n",
      "avg 773.3976712328767\n"
     ]
    }
   ],
   "source": [
    "#### basic fixed hc statistics\n",
    "avg = df_Xfj['immunized_children'].groupby(df_Xfj['health_center_id']).sum().mean()\n",
    "maxi = df_Xfj['immunized_children'].groupby(df_Xfj['health_center_id']).sum().max()\n",
    "mini = df_Xfj['immunized_children'].groupby(df_Xfj['health_center_id']).sum().min()\n",
    "print ('Basic statisitics of immunized children per open outreach')\n",
    "print ('max',(maxi))\n",
    "print ('min',(min))\n",
    "print ('avg',(avg))"
   ]
  },
  {
   "cell_type": "markdown",
   "metadata": {},
   "source": [
    "#### PRINT KPI's"
   ]
  },
  {
   "cell_type": "code",
   "execution_count": 93,
   "metadata": {},
   "outputs": [
    {
     "name": "stdout",
     "output_type": "stream",
     "text": [
      "-----Costs-------\n",
      "total cost:  11997.0\n",
      "Fixed_hc_cost:  2428\n",
      "Outreach_cost:  9569.0\n",
      "-----general coverage-------\n",
      "Total immunization: 166749\n",
      "Total population 171753\n",
      "Coverage 97.1  %\n",
      "-----Service by location type-------\n",
      "total population serviced by outreach: 110291\n",
      "total population service by fixed HC: 56458\n",
      "population nodes serviced by fixed HC:  394\n",
      "population nodes serviced by outreach:  3551\n",
      "-----OR operation-------\n",
      "number outreach facilities open: 449\n",
      "Basic statisitics of immunized children per open outreach\n",
      "max 3415.0\n",
      "min 41.0\n",
      "avg 246.0\n",
      "-----HC operation-------\n",
      "number of opened HC: 73\n",
      "Number of bundles sent : 474\n",
      "number outreach facilities open: 449\n",
      "---Distance health center to outreaches---------\n",
      " average distance or from fixed center 8.0\n",
      " maximum distance or from fixed center 26.0\n",
      " minimum distance or from fixed center 1.0\n"
     ]
    }
   ],
   "source": [
    "print('-----Costs-------')\n",
    "print('total cost: ' , round(total_cost) )\n",
    "print ('Fixed_hc_cost: ', round(cost_fixed_hc) )\n",
    "print ('Outreach_cost: ', round(cost_vehicle + cost_outreach_emp_cold))\n",
    "print('-----general coverage-------')\n",
    "print('Total immunization: %g' % round(m.objVal,0))\n",
    "print('Total population %g'%round(target_population,0) )\n",
    "print('Coverage %g '% round((m.objVal/target_population *100),1),\"%\" )\n",
    "print('-----Service by location type-------')\n",
    "print('total population serviced by outreach: %g' %  round(df_Xoj['immunized_children'].sum()))\n",
    "print('total population service by fixed HC: %g'% round(df_Xfj['immunized_children'].sum()))\n",
    "\n",
    "print('population nodes serviced by fixed HC: ', df_Xfj['population'].count())\n",
    "\n",
    "\n",
    "print('population nodes serviced by outreach: ', df_Xoj['population'].count())\n",
    "print('-----OR operation-------')\n",
    "print('number outreach facilities open: %g' %  round(df_Xoj['outreach_center_id'].nunique()))\n",
    "avg = df_Xoj['immunized_children'].groupby(df_Xoj['outreach_center_id']).sum().mean()\n",
    "maxi = df_Xoj['immunized_children'].groupby(df_Xoj['outreach_center_id']).sum().max()\n",
    "mini = df_Xoj['immunized_children'].groupby(df_Xoj['outreach_center_id']).sum().min()\n",
    "print ('Basic statisitics of immunized children per open outreach')\n",
    "print ('max',round(maxi))\n",
    "print ('min',round(mini))\n",
    "print ('avg',round(avg))\n",
    " \n",
    "print('-----HC operation-------')\n",
    "print('number of opened HC: %g'% round(df_Xfj['health_center_id'].nunique()))\n",
    "print('Number of bundles sent : %g'% round(df_Xfo['bundles'].sum()))\n",
    "print('number outreach facilities open: %g' %  round(df_Xoj['outreach_center_id'].nunique()))\n",
    "\n",
    "print('---Distance health center to outreaches---------')\n",
    "print ( ' average distance or from fixed center' , round(df_Xfo['distance[Km]'].mean()))\n",
    "print ( ' maximum distance or from fixed center' , round(df_Xfo['distance[Km]'].max()) )\n",
    "print ( ' minimum distance or from fixed center' , round(df_Xfo['distance[Km]'].min()) )"
   ]
  },
  {
   "cell_type": "code",
   "execution_count": 94,
   "metadata": {},
   "outputs": [],
   "source": [
    "### Export flows to CSV\n",
    "df_Xfo.to_csv('df_Xfj.csv')\n",
    "df_Xfj.to_csv('df_Xfj.csv')\n",
    "df_Xoj.to_csv('df_Xoj.csv')"
   ]
  }
 ],
 "metadata": {
  "kernelspec": {
   "display_name": "Python 3",
   "language": "python",
   "name": "python3"
  },
  "language_info": {
   "codemirror_mode": {
    "name": "ipython",
    "version": 3
   },
   "file_extension": ".py",
   "mimetype": "text/x-python",
   "name": "python",
   "nbconvert_exporter": "python",
   "pygments_lexer": "ipython3",
   "version": "3.6.10"
  }
 },
 "nbformat": 4,
 "nbformat_minor": 4
}
